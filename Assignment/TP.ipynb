{
 "cells": [
  {
   "cell_type": "code",
   "execution_count": 79,
   "metadata": {},
   "outputs": [],
   "source": [
    "import numpy as np\n",
    "from scipy.linalg import lu\n",
    "\n",
    "np.set_printoptions(precision=3)"
   ]
  },
  {
   "cell_type": "markdown",
   "metadata": {},
   "source": [
    "## A"
   ]
  },
  {
   "cell_type": "code",
   "execution_count": 80,
   "metadata": {},
   "outputs": [
    {
     "data": {
      "text/plain": [
       "array([[0, 0, 0],\n",
       "       [0, 0, 0],\n",
       "       [0, 0, 0]])"
      ]
     },
     "execution_count": 80,
     "metadata": {},
     "output_type": "execute_result"
    }
   ],
   "source": [
    "def square_zeros(n):\n",
    "    return np.array([[0 for _ in range(n)] for _ in range(n)])\n",
    "\n",
    "\n",
    "A = square_zeros(3)\n",
    "A"
   ]
  },
  {
   "cell_type": "code",
   "execution_count": 81,
   "metadata": {},
   "outputs": [
    {
     "data": {
      "text/plain": [
       "array([[0, 0, 1],\n",
       "       [0, 0, 0],\n",
       "       [0, 0, 0]])"
      ]
     },
     "execution_count": 81,
     "metadata": {},
     "output_type": "execute_result"
    }
   ],
   "source": [
    "A[0, 2] = 1\n",
    "A"
   ]
  },
  {
   "cell_type": "code",
   "execution_count": 82,
   "metadata": {},
   "outputs": [
    {
     "data": {
      "text/plain": [
       "array([[0, 0, 0],\n",
       "       [0, 0, 0]])"
      ]
     },
     "execution_count": 82,
     "metadata": {},
     "output_type": "execute_result"
    }
   ],
   "source": [
    "def rectangular_zeros(m, n):\n",
    "    return np.array([[0 for _ in range(n)] for _ in range(m)])\n",
    "\n",
    "\n",
    "rectangular_zeros(2, 3)"
   ]
  },
  {
   "cell_type": "code",
   "execution_count": 83,
   "metadata": {},
   "outputs": [
    {
     "data": {
      "text/plain": [
       "array([[1, 0, 0],\n",
       "       [0, 1, 0],\n",
       "       [0, 0, 1]])"
      ]
     },
     "execution_count": 83,
     "metadata": {},
     "output_type": "execute_result"
    }
   ],
   "source": [
    "def identity_matrix(n):\n",
    "    return np.array([[1 if i == j else 0 for j in range(n)] for i in range(n)])\n",
    "\n",
    "\n",
    "identity_matrix(3)"
   ]
  },
  {
   "cell_type": "code",
   "execution_count": 84,
   "metadata": {},
   "outputs": [
    {
     "data": {
      "text/plain": [
       "array([[2.   , 1.5  , 1.333],\n",
       "       [1.5  , 1.   , 0.833],\n",
       "       [1.333, 0.833, 0.667]])"
      ]
     },
     "execution_count": 84,
     "metadata": {},
     "output_type": "execute_result"
    }
   ],
   "source": [
    "def E(n):\n",
    "    return np.array([[(i+j+2)/((i+1)*(j+1)) for j in range(n)] for i in range(n)])\n",
    "\n",
    "\n",
    "E(3)"
   ]
  },
  {
   "cell_type": "code",
   "execution_count": 85,
   "metadata": {},
   "outputs": [
    {
     "data": {
      "text/plain": [
       "True"
      ]
     },
     "execution_count": 85,
     "metadata": {},
     "output_type": "execute_result"
    }
   ],
   "source": [
    "def matrices_equal(A, B):\n",
    "    if len(A) != len(B) or len(A[0]) != len(B[0]):\n",
    "        return False\n",
    "    for i in range(len(A)):\n",
    "        for j in range(len(A[0])):\n",
    "            if A[i][j] != B[i][j]:\n",
    "                return False\n",
    "    return True\n",
    "\n",
    "\n",
    "matrices_equal(np.array([[1, 2], [1, 2]]), np.array([[1, 2], [1, 2]]))"
   ]
  },
  {
   "cell_type": "code",
   "execution_count": 86,
   "metadata": {},
   "outputs": [
    {
     "data": {
      "text/plain": [
       "array([[1, 4],\n",
       "       [2, 5],\n",
       "       [3, 6]])"
      ]
     },
     "execution_count": 86,
     "metadata": {},
     "output_type": "execute_result"
    }
   ],
   "source": [
    "def T(A):\n",
    "    return np.array([[A[j][i] for j in range(len(A))] for i in range(len(A[0]))])\n",
    "\n",
    "\n",
    "T([[1, 2, 3], [4, 5, 6]])"
   ]
  },
  {
   "cell_type": "code",
   "execution_count": 87,
   "metadata": {},
   "outputs": [
    {
     "data": {
      "text/plain": [
       "array([[ 2,  4,  6],\n",
       "       [ 8, 10, 12]])"
      ]
     },
     "execution_count": 87,
     "metadata": {},
     "output_type": "execute_result"
    }
   ],
   "source": [
    "def add(A, B):\n",
    "    if len(A) != len(B) or len(A[0]) != len(B[0]):\n",
    "        raise ValueError(\"Matrices must have the same dimensions to be added\")\n",
    "    return np.array([[A[i][j] + B[i][j] for j in range(len(A[0]))] for i in range(len(A))])\n",
    "\n",
    "\n",
    "add(np.array([[1, 2, 3], [4, 5, 6]]), np.array([[1, 2, 3], [4, 5, 6]]))"
   ]
  },
  {
   "cell_type": "code",
   "execution_count": 88,
   "metadata": {},
   "outputs": [
    {
     "data": {
      "text/plain": [
       "array([[ 3,  6,  9],\n",
       "       [12, 15, 18]])"
      ]
     },
     "execution_count": 88,
     "metadata": {},
     "output_type": "execute_result"
    }
   ],
   "source": [
    "def multiply_by_scalar(A, c):\n",
    "    return np.array([[c * A[i][j] for j in range(len(A[0]))] for i in range(len(A))])\n",
    "\n",
    "\n",
    "multiply_by_scalar(np.array([[1, 2, 3], [4, 5, 6]]), 3)"
   ]
  },
  {
   "cell_type": "code",
   "execution_count": 89,
   "metadata": {},
   "outputs": [
    {
     "data": {
      "text/plain": [
       "array([[2.   , 1.5  , 1.333],\n",
       "       [1.5  , 1.   , 0.833],\n",
       "       [1.333, 0.833, 0.667]])"
      ]
     },
     "execution_count": 89,
     "metadata": {},
     "output_type": "execute_result"
    }
   ],
   "source": [
    "def multiply(A, B):\n",
    "    if len(A[0]) != len(B):\n",
    "        raise ValueError(\n",
    "            \"Number of columns in first matrix must be equal to number of rows in second matrix\")\n",
    "    result = [[0 for _ in range(len(B[0]))]\n",
    "              for _ in range(len(A))]\n",
    "    for i in range(len(A)):\n",
    "        for j in range(len(B[0])):\n",
    "            for k in range(len(B)):\n",
    "                result[i][j] += A[i][k] * B[k][j]\n",
    "    return np.array(result)\n",
    "\n",
    "\n",
    "multiply(np.eye(3), E(3))"
   ]
  },
  {
   "cell_type": "code",
   "execution_count": 90,
   "metadata": {},
   "outputs": [
    {
     "data": {
      "text/plain": [
       "True"
      ]
     },
     "execution_count": 90,
     "metadata": {},
     "output_type": "execute_result"
    }
   ],
   "source": [
    "def is_inverse(A,  B):\n",
    "    return matrices_equal(multiply(A, B), identity_matrix(A.shape[0]))\n",
    "\n",
    "\n",
    "is_inverse(np.array([[1, 2], [2, 1]]),\n",
    "           np.linalg.inv(np.array([[1, 2], [2, 1]])))"
   ]
  },
  {
   "cell_type": "markdown",
   "metadata": {},
   "source": [
    "## B"
   ]
  },
  {
   "cell_type": "code",
   "execution_count": 91,
   "metadata": {},
   "outputs": [
    {
     "name": "stdout",
     "output_type": "stream",
     "text": [
      "CPU times: total: 0 ns\n",
      "Wall time: 0 ns\n"
     ]
    },
    {
     "data": {
      "text/plain": [
       "array([[ 2., -1.,  0.,  0.,  0.],\n",
       "       [-1.,  2., -1.,  0.,  0.],\n",
       "       [ 0., -1.,  2., -1.,  0.],\n",
       "       [ 0.,  0., -1.,  2., -1.],\n",
       "       [ 0.,  0.,  0., -1.,  2.]])"
      ]
     },
     "execution_count": 91,
     "metadata": {},
     "output_type": "execute_result"
    }
   ],
   "source": [
    "def D(n):\n",
    "    M = np.zeros((n, n))\n",
    "    for i in range(n):\n",
    "        M[i, i] = 2\n",
    "        if i > 0:\n",
    "            M[i, i-1] = -1\n",
    "        if i < n-1:\n",
    "            M[i, i+1] = -1\n",
    "    return M\n",
    "\n",
    "\n",
    "%time D(5)"
   ]
  },
  {
   "cell_type": "code",
   "execution_count": 92,
   "metadata": {},
   "outputs": [
    {
     "name": "stdout",
     "output_type": "stream",
     "text": [
      "CPU times: total: 0 ns\n",
      "Wall time: 0 ns\n"
     ]
    },
    {
     "data": {
      "text/plain": [
       "array([[ 2., -1.,  0., ...,  0.,  0.,  0.],\n",
       "       [-1.,  2., -1., ...,  0.,  0.,  0.],\n",
       "       [ 0., -1.,  2., ...,  0.,  0.,  0.],\n",
       "       ...,\n",
       "       [ 0.,  0.,  0., ...,  2., -1.,  0.],\n",
       "       [ 0.,  0.,  0., ..., -1.,  2., -1.],\n",
       "       [ 0.,  0.,  0., ...,  0., -1.,  2.]])"
      ]
     },
     "execution_count": 92,
     "metadata": {},
     "output_type": "execute_result"
    }
   ],
   "source": [
    "%time D(100)"
   ]
  },
  {
   "cell_type": "code",
   "execution_count": 93,
   "metadata": {},
   "outputs": [
    {
     "name": "stdout",
     "output_type": "stream",
     "text": [
      "CPU times: total: 0 ns\n",
      "Wall time: 1.34 ms\n"
     ]
    },
    {
     "data": {
      "text/plain": [
       "array([[ 2., -1.,  0., ...,  0.,  0.,  0.],\n",
       "       [-1.,  2., -1., ...,  0.,  0.,  0.],\n",
       "       [ 0., -1.,  2., ...,  0.,  0.,  0.],\n",
       "       ...,\n",
       "       [ 0.,  0.,  0., ...,  2., -1.,  0.],\n",
       "       [ 0.,  0.,  0., ..., -1.,  2., -1.],\n",
       "       [ 0.,  0.,  0., ...,  0., -1.,  2.]])"
      ]
     },
     "execution_count": 93,
     "metadata": {},
     "output_type": "execute_result"
    }
   ],
   "source": [
    "%time D(1000)"
   ]
  },
  {
   "cell_type": "code",
   "execution_count": 94,
   "metadata": {},
   "outputs": [
    {
     "data": {
      "text/plain": [
       "array([[ 5., -4.,  3., -2.,  1.],\n",
       "       [-4.,  8., -6.,  4., -2.],\n",
       "       [ 3., -6.,  9., -6.,  3.],\n",
       "       [-2.,  4., -6.,  8., -4.],\n",
       "       [ 1., -2.,  3., -4.,  5.]])"
      ]
     },
     "execution_count": 94,
     "metadata": {},
     "output_type": "execute_result"
    }
   ],
   "source": [
    "def matrix_minors(M):\n",
    "    row = M.shape[0]\n",
    "    col = M.shape[1]\n",
    "    minors = np.zeros(M.shape)\n",
    "\n",
    "    for i in range(row):\n",
    "        for j in range(col):\n",
    "            sub_matrix = np.delete(np.delete(M, i, axis=0), j, axis=1)\n",
    "            minors[i, j] = np.linalg.det(sub_matrix)\n",
    "\n",
    "    return minors\n",
    "\n",
    "\n",
    "matrix_minors(D(5))"
   ]
  },
  {
   "cell_type": "code",
   "execution_count": 95,
   "metadata": {},
   "outputs": [
    {
     "name": "stdout",
     "output_type": "stream",
     "text": [
      "CPU times: total: 734 ms\n",
      "Wall time: 1.62 s\n"
     ]
    },
    {
     "data": {
      "text/plain": [
       "array([[ 2, -1,  0, ...,  0,  0,  0],\n",
       "       [-1,  2, -1, ...,  0,  0,  0],\n",
       "       [ 0, -1,  2, ...,  0,  0,  0],\n",
       "       ...,\n",
       "       [ 0,  0,  0, ...,  2, -1,  0],\n",
       "       [ 0,  0,  0, ..., -1,  2, -1],\n",
       "       [ 0,  0,  0, ...,  0, -1,  2]])"
      ]
     },
     "execution_count": 95,
     "metadata": {},
     "output_type": "execute_result"
    }
   ],
   "source": [
    "def D_new(n):\n",
    "    return np.diag(np.full(n, 2)) + \\\n",
    "        np.diag(np.full(n-1, -1), 1) +\\\n",
    "        np.diag(np.full(n-1, -1), -1)\n",
    "\n",
    "\n",
    "%time D_new(10000)"
   ]
  },
  {
   "cell_type": "code",
   "execution_count": 96,
   "metadata": {},
   "outputs": [
    {
     "name": "stdout",
     "output_type": "stream",
     "text": [
      "CPU times: total: 0 ns\n",
      "Wall time: 22.3 ms\n"
     ]
    },
    {
     "data": {
      "text/plain": [
       "array([[ 2., -1.,  0., ...,  0.,  0.,  0.],\n",
       "       [-1.,  2., -1., ...,  0.,  0.,  0.],\n",
       "       [ 0., -1.,  2., ...,  0.,  0.,  0.],\n",
       "       ...,\n",
       "       [ 0.,  0.,  0., ...,  2., -1.,  0.],\n",
       "       [ 0.,  0.,  0., ..., -1.,  2., -1.],\n",
       "       [ 0.,  0.,  0., ...,  0., -1.,  2.]])"
      ]
     },
     "execution_count": 96,
     "metadata": {},
     "output_type": "execute_result"
    }
   ],
   "source": [
    "%time D(10000)"
   ]
  },
  {
   "cell_type": "markdown",
   "metadata": {},
   "source": [
    "The new method is worse, because it needs to generate three matrices, and add them, whose complexity will be $\\mathcal{O}(2n^2)$. However, the complexity of the first one is just $\\mathcal{O}(3n)$."
   ]
  },
  {
   "cell_type": "code",
   "execution_count": 97,
   "metadata": {},
   "outputs": [
    {
     "data": {
      "text/plain": [
       "(array([[ 1.414,  0.   ,  0.   ,  0.   ,  0.   ],\n",
       "        [-0.707,  1.225,  0.   ,  0.   ,  0.   ],\n",
       "        [ 0.   , -0.816,  1.155,  0.   ,  0.   ],\n",
       "        [ 0.   ,  0.   , -0.866,  1.118,  0.   ],\n",
       "        [ 0.   ,  0.   ,  0.   , -0.894,  1.095]]),\n",
       " array([[ 1.414, -0.707,  0.   ,  0.   ,  0.   ],\n",
       "        [ 0.   ,  1.225, -0.816,  0.   ,  0.   ],\n",
       "        [ 0.   ,  0.   ,  1.155, -0.866,  0.   ],\n",
       "        [ 0.   ,  0.   ,  0.   ,  1.118, -0.894],\n",
       "        [ 0.   ,  0.   ,  0.   ,  0.   ,  1.095]]))"
      ]
     },
     "execution_count": 97,
     "metadata": {},
     "output_type": "execute_result"
    }
   ],
   "source": [
    "L_cholesky = np.linalg.cholesky(D(5))\n",
    "\n",
    "L_cholesky, L_cholesky.T"
   ]
  },
  {
   "cell_type": "code",
   "execution_count": 98,
   "metadata": {},
   "outputs": [],
   "source": [
    "size = 100\n",
    "\n",
    "DD = D(size)"
   ]
  },
  {
   "cell_type": "code",
   "execution_count": 99,
   "metadata": {},
   "outputs": [
    {
     "data": {
      "text/plain": [
       "np.float64(4133.642926801001)"
      ]
     },
     "execution_count": 99,
     "metadata": {},
     "output_type": "execute_result"
    }
   ],
   "source": [
    "np.linalg.cond(DD)"
   ]
  },
  {
   "cell_type": "code",
   "execution_count": 100,
   "metadata": {},
   "outputs": [
    {
     "data": {
      "text/plain": [
       "np.float64(101.00000000000146)"
      ]
     },
     "execution_count": 100,
     "metadata": {},
     "output_type": "execute_result"
    }
   ],
   "source": [
    "np.linalg.det(DD)"
   ]
  },
  {
   "cell_type": "code",
   "execution_count": 101,
   "metadata": {},
   "outputs": [
    {
     "data": {
      "text/plain": [
       "array([[0.99 , 0.98 , 0.97 , ..., 0.03 , 0.02 , 0.01 ],\n",
       "       [0.98 , 1.96 , 1.941, ..., 0.059, 0.04 , 0.02 ],\n",
       "       [0.97 , 1.941, 2.911, ..., 0.089, 0.059, 0.03 ],\n",
       "       ...,\n",
       "       [0.03 , 0.059, 0.089, ..., 2.911, 1.941, 0.97 ],\n",
       "       [0.02 , 0.04 , 0.059, ..., 1.941, 1.96 , 0.98 ],\n",
       "       [0.01 , 0.02 , 0.03 , ..., 0.97 , 0.98 , 0.99 ]])"
      ]
     },
     "execution_count": 101,
     "metadata": {},
     "output_type": "execute_result"
    }
   ],
   "source": [
    "np.linalg.inv(DD)"
   ]
  },
  {
   "cell_type": "code",
   "execution_count": 102,
   "metadata": {},
   "outputs": [
    {
     "data": {
      "text/plain": [
       "array([[ 1.000e+00,  0.000e+00,  0.000e+00, ...,  0.000e+00,  0.000e+00,\n",
       "         0.000e+00],\n",
       "       [-1.110e-16,  1.000e+00,  0.000e+00, ...,  0.000e+00, -6.939e-18,\n",
       "        -3.469e-18],\n",
       "       [-1.110e-16, -2.220e-16,  1.000e+00, ..., -1.388e-17,  0.000e+00,\n",
       "         0.000e+00],\n",
       "       ...,\n",
       "       [ 3.469e-18,  6.939e-18,  2.776e-17, ...,  1.000e+00,  2.220e-16,\n",
       "         1.110e-16],\n",
       "       [ 1.735e-18,  3.469e-18, -3.469e-18, ...,  2.220e-16,  1.000e+00,\n",
       "         0.000e+00],\n",
       "       [ 0.000e+00,  0.000e+00, -6.939e-18, ...,  0.000e+00,  0.000e+00,\n",
       "         1.000e+00]])"
      ]
     },
     "execution_count": 102,
     "metadata": {},
     "output_type": "execute_result"
    }
   ],
   "source": [
    "P = np.matmul(DD, np.linalg.inv(DD))\n",
    "P"
   ]
  },
  {
   "cell_type": "code",
   "execution_count": 103,
   "metadata": {},
   "outputs": [
    {
     "data": {
      "text/plain": [
       "np.float64(1.303919256620991e-13)"
      ]
     },
     "execution_count": 103,
     "metadata": {},
     "output_type": "execute_result"
    }
   ],
   "source": [
    "error_norm = np.linalg.norm(P-np.eye(P.shape[0]), 'fro')\n",
    "\n",
    "error_norm"
   ]
  },
  {
   "cell_type": "code",
   "execution_count": 104,
   "metadata": {},
   "outputs": [
    {
     "name": "stdout",
     "output_type": "stream",
     "text": [
      "Stable when n is 100\n"
     ]
    }
   ],
   "source": [
    "tolerance = 1e-12*np.linalg.cond(DD)\n",
    "\n",
    "if error_norm < tolerance:\n",
    "    print(f\"Stable when n is {size}\")\n",
    "else:\n",
    "    print(f\"Not stable when n is {size}\")"
   ]
  }
 ],
 "metadata": {
  "kernelspec": {
   "display_name": ".venv",
   "language": "python",
   "name": "python3"
  },
  "language_info": {
   "codemirror_mode": {
    "name": "ipython",
    "version": 3
   },
   "file_extension": ".py",
   "mimetype": "text/x-python",
   "name": "python",
   "nbconvert_exporter": "python",
   "pygments_lexer": "ipython3",
   "version": "3.11.10"
  }
 },
 "nbformat": 4,
 "nbformat_minor": 2
}
