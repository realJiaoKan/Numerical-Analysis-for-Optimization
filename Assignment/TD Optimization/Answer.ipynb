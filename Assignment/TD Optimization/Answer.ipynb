{
 "cells": [
  {
   "cell_type": "code",
   "execution_count": 1,
   "metadata": {},
   "outputs": [],
   "source": [
    "import numpy as np"
   ]
  },
  {
   "cell_type": "code",
   "execution_count": 2,
   "metadata": {},
   "outputs": [],
   "source": [
    "precision = 4\n",
    "tol = 1e-12  # Default\n",
    "\n",
    "f = lambda x: (x[0] - 3) ** 2 + (x[1] + 1) ** 2\n",
    "x_0 = np.array([0, 0])\n",
    "\n",
    "\n",
    "def tolist_round(x, precision=precision):\n",
    "    return np.round(x, precision).tolist()"
   ]
  },
  {
   "cell_type": "markdown",
   "metadata": {},
   "source": [
    "## Practice Problem\n",
    "\n",
    "### 1"
   ]
  },
  {
   "cell_type": "code",
   "execution_count": 3,
   "metadata": {},
   "outputs": [
    {
     "name": "stdout",
     "output_type": "stream",
     "text": [
      "Original point: [0.0, 0.0], function value: 10.0\n",
      "----------Start searching----------\n",
      "Current point: [-0.1, 0.0], function value: 10.610000000000001\n",
      "Current point: [0.1, 0.0], function value: 9.41\n",
      "Current point: [0.0, -0.1], function value: 9.81\n",
      "Current point: [0.0, 0.1], function value: 10.21\n",
      "-----------End searching-----------\n",
      "Improved point: [0.1, 0.0], function value: 9.41\n",
      "Vector between two points: [0.1, 0.0]\n"
     ]
    }
   ],
   "source": [
    "def test_direction_for_one_variable_search(f, x_0, step_size=0.1, tol=tol, output=True):\n",
    "    x_0 = np.array(x_0, dtype=np.float64)\n",
    "    best_point = x_0\n",
    "    best_result = f(x_0)\n",
    "\n",
    "    if output:\n",
    "        print(f\"Original point: {tolist_round(x_0)}, function value: {f(x_0)}\")\n",
    "        print(\"-\" * 10 + \"Start searching\" + \"-\" * 10)\n",
    "\n",
    "    for dim in range(len(x_0)):\n",
    "        for sign in [-1, 1]:\n",
    "            test_point = np.array(x_0)\n",
    "            test_point[dim] += sign * step_size\n",
    "            test_value = f(test_point)\n",
    "\n",
    "            if output:\n",
    "                print(\n",
    "                    f\"Current point: {tolist_round(test_point)}, function value: {test_value}\"\n",
    "                )\n",
    "\n",
    "            if test_value - best_result < -tol:\n",
    "                best_result = test_value\n",
    "                best_point = test_point.copy()\n",
    "\n",
    "    if output:\n",
    "        print(\"-\" * 10 + \"-End searching-\" + \"-\" * 10)\n",
    "        print(\n",
    "            f\"Improved point: {tolist_round(best_point)}, function value: {best_result}\"\n",
    "        )\n",
    "        print(f\"Vector between two points: {tolist_round(best_point - x_0)}\")\n",
    "\n",
    "    return best_point - x_0\n",
    "\n",
    "\n",
    "test_direction_for_one_variable_search(f, x_0)\n",
    "pass"
   ]
  },
  {
   "cell_type": "markdown",
   "metadata": {},
   "source": [
    "### 2"
   ]
  },
  {
   "cell_type": "code",
   "execution_count": 4,
   "metadata": {},
   "outputs": [
    {
     "name": "stdout",
     "output_type": "stream",
     "text": [
      "Strat from: [0.0, 0.0], function value: 10.0, vector: [0.1, 0.0]\n",
      "----------Start optimizing----------\n",
      "Iteration No.1: [0.1, 0.0], function value: 9.41\n",
      "Iteration No.2: [0.2, 0.0], function value: 8.84\n",
      "Iteration No.3: [0.3, 0.0], function value: 8.290000000000001\n",
      "Iteration No.4: [0.4, 0.0], function value: 7.760000000000001\n",
      "Iteration No.5: [0.5, 0.0], function value: 7.25\n",
      "Iteration No.6: [0.6, 0.0], function value: 6.76\n",
      "Iteration No.7: [0.7, 0.0], function value: 6.289999999999999\n",
      "Iteration No.8: [0.8, 0.0], function value: 5.840000000000001\n",
      "Iteration No.9: [0.9, 0.0], function value: 5.41\n",
      "Iteration No.10: [1.0, 0.0], function value: 5.0\n",
      "Iteration No.11: [1.1, 0.0], function value: 4.61\n",
      "Iteration No.12: [1.2, 0.0], function value: 4.24\n",
      "Iteration No.13: [1.3, 0.0], function value: 3.8899999999999997\n",
      "Iteration No.14: [1.4, 0.0], function value: 3.5599999999999996\n",
      "Iteration No.15: [1.5, 0.0], function value: 3.2499999999999996\n",
      "Iteration No.16: [1.6, 0.0], function value: 2.959999999999999\n",
      "Iteration No.17: [1.7, 0.0], function value: 2.689999999999999\n",
      "Iteration No.18: [1.8, 0.0], function value: 2.4399999999999986\n",
      "Iteration No.19: [1.9, 0.0], function value: 2.2099999999999986\n",
      "Iteration No.20: [2.0, 0.0], function value: 1.9999999999999991\n",
      "Iteration No.21: [2.1, 0.0], function value: 1.8099999999999992\n",
      "Iteration No.22: [2.2, 0.0], function value: 1.639999999999999\n",
      "Iteration No.23: [2.3, 0.0], function value: 1.4899999999999989\n",
      "Iteration No.24: [2.4, 0.0], function value: 1.359999999999999\n",
      "Iteration No.25: [2.5, 0.0], function value: 1.2499999999999991\n",
      "Iteration No.26: [2.6, 0.0], function value: 1.1599999999999993\n",
      "Iteration No.27: [2.7, 0.0], function value: 1.0899999999999994\n",
      "Iteration No.28: [2.8, 0.0], function value: 1.0399999999999996\n",
      "Iteration No.29: [2.9, 0.0], function value: 1.0099999999999998\n",
      "Iteration No.30: [3.0, 0.0], function value: 1.0\n",
      "Iteration No.31: [3.1, 0.0], function value: 1.0100000000000002\n",
      "-----------End optimizing-----------\n",
      "Can not be more optimized with the given vector,stop at [3.0, 0.0], function value: 1.0\n"
     ]
    }
   ],
   "source": [
    "def optimize(f, x_0, delta, alpha=1, tol=tol, output=True):\n",
    "    x_0 = np.array(x_0, dtype=np.float64)\n",
    "    best_point = x_0\n",
    "    best_result = f(x_0)\n",
    "    iteration = 1\n",
    "\n",
    "    if output:\n",
    "        print(\n",
    "            f\"Strat from: {tolist_round(x_0)}, function value: {f(x_0)}, vector: {tolist_round(delta)}\"\n",
    "        )\n",
    "        print(\"-\" * 10 + \"Start optimizing\" + \"-\" * 10)\n",
    "\n",
    "    while True:\n",
    "        test_point = best_point + alpha * delta\n",
    "        test_value = f(test_point)\n",
    "\n",
    "        if output:\n",
    "            print(\n",
    "                f\"Iteration No.{iteration}: {tolist_round(test_point)}, function value: {test_value}\"\n",
    "            )\n",
    "\n",
    "        if test_value - best_result > tol:\n",
    "            if output:\n",
    "                print(\"-\" * 10 + \"-End optimizing-\" + \"-\" * 10)\n",
    "                print(\n",
    "                    f\"Can not be more optimized with the given vector,\"\n",
    "                    f\"stop at {tolist_round(best_point)}, function value: {best_result}\"\n",
    "                )\n",
    "\n",
    "            return best_point, best_result\n",
    "\n",
    "        best_point = test_point\n",
    "        best_result = test_value\n",
    "        iteration += 1\n",
    "\n",
    "\n",
    "optimize(f, x_0, test_direction_for_one_variable_search(f, x_0, 0.1, output=False))\n",
    "pass"
   ]
  },
  {
   "cell_type": "markdown",
   "metadata": {},
   "source": [
    "### 3"
   ]
  },
  {
   "cell_type": "markdown",
   "metadata": {},
   "source": [
    "![alt text](Figure/image2.png)"
   ]
  },
  {
   "cell_type": "code",
   "execution_count": 5,
   "metadata": {},
   "outputs": [
    {
     "name": "stdout",
     "output_type": "stream",
     "text": [
      "Original point: [0.0, 0.0], function value: 10.0\n",
      "----------Start searching----------\n",
      "Current dimension: 1, better point: [0.1, 0.0]\n",
      "Current dimension: 2, better point: [0.1, -0.1]\n",
      "-----------End searching-----------\n",
      "Improved point: [0.1, -0.1], function value: 9.22\n",
      "Vector between two points: [0.1, -0.1]\n"
     ]
    }
   ],
   "source": [
    "def test_direction_for_hooke_jeeves(f, x_0, step_size=0.1, tol=tol, output=True):\n",
    "    x_0 = np.array(x_0, dtype=np.float64)\n",
    "    best_point = x_0\n",
    "    best_result = f(x_0)\n",
    "\n",
    "    if output:\n",
    "        print(\n",
    "            f\"Original point: {tolist_round(x_0)}, function value: {f(x_0)}\"\n",
    "        )\n",
    "        print(\"-\" * 10 + \"Start searching\" + \"-\" * 10)\n",
    "\n",
    "    for dim in range(len(x_0)):\n",
    "        test_points = [best_point.copy(), best_point.copy()]\n",
    "        test_points[0][dim] += step_size\n",
    "        test_points[1][dim] -= step_size\n",
    "        test_values = [f(test_points[0]), f(test_points[1])]\n",
    "\n",
    "        if min(test_values) - best_result < -tol:\n",
    "            if test_values[0] < test_values[1]:\n",
    "                best_point = test_points[0]\n",
    "                best_result = test_values[0]\n",
    "            else:\n",
    "                best_point = test_points[1]\n",
    "                best_result = test_values[1]\n",
    "\n",
    "            if output:\n",
    "                print(\n",
    "                    f\"Current dimension: {dim+1}, better point: {tolist_round(best_point)}\"\n",
    "                )\n",
    "\n",
    "        else:\n",
    "            if output:\n",
    "                print(f\"Current dimension: {dim+1}, no better point\")\n",
    "\n",
    "    if output:\n",
    "        print(\"-\" * 10 + \"-End searching-\" + \"-\" * 10)\n",
    "        print(\n",
    "            f\"Improved point: {tolist_round(best_point)}, function value: {best_result}\"\n",
    "        )\n",
    "        print(f\"Vector between two points: {tolist_round(best_point - x_0)}\")\n",
    "\n",
    "    return best_point - x_0\n",
    "\n",
    "\n",
    "test_direction_for_hooke_jeeves(f, x_0)\n",
    "pass"
   ]
  },
  {
   "cell_type": "code",
   "execution_count": 6,
   "metadata": {},
   "outputs": [
    {
     "name": "stdout",
     "output_type": "stream",
     "text": [
      "Starting Hooke-Jeeves optimization from: [0.0, 0.0], function value: 10.0\n",
      "----------Start Hooke-Jeeves optimization----------\n",
      "Iteration 1: improved point: [2.0, -2.0], function value: 2.0\n",
      "Iteration 2: improved point: [3.0, -1.0], function value: 4.388038785291878e-30\n",
      "No better direction, try reducing step size to 0.01\n",
      "No better direction, try reducing step size to 0.001\n",
      "No better direction, try reducing step size to 0.0001\n",
      "No better direction, try reducing step size to 1e-05\n",
      "No better direction, try reducing step size to 1.0000000000000002e-06\n",
      "No better direction, try reducing step size to 1.0000000000000002e-07\n",
      "No better direction, try reducing step size to 1.0000000000000002e-08\n",
      "No better direction, try reducing step size to 1.0000000000000003e-09\n",
      "No better direction, try reducing step size to 1.0000000000000003e-10\n",
      "No better direction, try reducing step size to 1.0000000000000003e-11\n",
      "No better direction, try reducing step size to 1.0000000000000002e-12\n",
      "No better direction, step size smaller than tolerance\n",
      "-----------End Hooke-Jeeves optimization-----------\n",
      "Search method completed at [3.0, -1.0] with function value: 4.388038785291878e-30\n"
     ]
    }
   ],
   "source": [
    "def hooke_jeeves(f, x_0, step_size=0.1, alpha=2, tol=tol, output=True):\n",
    "    x_0 = np.array(x_0, dtype=np.float64)\n",
    "    best_point = x_0\n",
    "    best_result = f(x_0)\n",
    "    iteration = 1\n",
    "\n",
    "    if output:\n",
    "        print(\n",
    "            f\"Starting Hooke-Jeeves optimization from: {tolist_round(x_0)}, function value: {f(x_0)}\"\n",
    "        )\n",
    "        print(\"-\" * 10 + \"Start Hooke-Jeeves optimization\" + \"-\" * 10)\n",
    "\n",
    "    while True:\n",
    "        # Step 1 & 2 & 4'\n",
    "        direction = test_direction_for_hooke_jeeves(\n",
    "            f, best_point, step_size, tol=tol, output=False\n",
    "        )\n",
    "\n",
    "        # Step 5\n",
    "        if (\n",
    "            np.linalg.norm(direction) < tol\n",
    "            # Avoid \"side-to-side hopping\" between two points at the same elevation\n",
    "            or f(best_point + alpha * direction) - best_result > -tol\n",
    "        ):\n",
    "            step_size /= 10\n",
    "            if step_size < tol:\n",
    "                if output:\n",
    "                    print(f\"No better direction, step size smaller than tolerance\")\n",
    "\n",
    "                break\n",
    "\n",
    "            if output:\n",
    "                print(f\"No better direction, try reducing step size to {step_size}\")\n",
    "\n",
    "            continue\n",
    "\n",
    "        # Step 3 & 4'\n",
    "        best_point, best_result = optimize(f, best_point, direction, alpha, tol, False)\n",
    "\n",
    "        if output:\n",
    "            print(\n",
    "                f\"Iteration {iteration}: \"\n",
    "                f\"improved point: {tolist_round(best_point)}, function value: {best_result}\"\n",
    "            )\n",
    "\n",
    "        iteration += 1\n",
    "\n",
    "    if output:\n",
    "        print(\"-\" * 10 + \"-End Hooke-Jeeves optimization-\" + \"-\" * 10)\n",
    "        print(\n",
    "            f\"Search method completed at {tolist_round(best_point)} with function value: {best_result}\"\n",
    "        )\n",
    "\n",
    "    return tolist_round(best_point), best_result\n",
    "\n",
    "\n",
    "hooke_jeeves(f, x_0, step_size=0.1, alpha=2)\n",
    "pass"
   ]
  },
  {
   "cell_type": "markdown",
   "metadata": {},
   "source": [
    "#### Some tests"
   ]
  },
  {
   "cell_type": "code",
   "execution_count": 7,
   "metadata": {},
   "outputs": [],
   "source": [
    "fs = [\n",
    "    # f0\n",
    "    lambda x: (x[0] - 1) ** 2 + (x[1] - 1) ** 2 + (x[2] - 1) ** 2,\n",
    "    # f1\n",
    "    lambda x: (x[0] + 2) ** 2 + (x[1] - 2) ** 2 + (x[2] + 2) ** 2 + (x[3] - 2) ** 2,\n",
    "    # f2\n",
    "    lambda x: (x[0] - 1) ** 2\n",
    "    + (x[1] - 2.1) ** 4\n",
    "    + (x[2] - 3.22) ** 4\n",
    "    + (x[3] - 4.333) ** 2\n",
    "    + (x[4] - 5.4444) ** 4\n",
    "    + (x[5] - 6.1234) ** 4\n",
    "    + (x[6] - 7.5678) ** 4,\n",
    "]"
   ]
  },
  {
   "cell_type": "markdown",
   "metadata": {},
   "source": [
    "##### Different functions"
   ]
  },
  {
   "cell_type": "code",
   "execution_count": 8,
   "metadata": {},
   "outputs": [
    {
     "name": "stdout",
     "output_type": "stream",
     "text": [
      "Starting Hooke-Jeeves optimization from: [0.0, 0.0, 0.0], function value: 3.0\n",
      "----------Start Hooke-Jeeves optimization----------\n",
      "No better direction, try reducing step size to 0.1\n",
      "Iteration 1: improved point: [1.0, 1.0, 1.0], function value: 0.0\n",
      "No better direction, try reducing step size to 0.01\n",
      "No better direction, try reducing step size to 0.001\n",
      "No better direction, try reducing step size to 0.0001\n",
      "No better direction, try reducing step size to 1e-05\n",
      "No better direction, try reducing step size to 1.0000000000000002e-06\n",
      "No better direction, try reducing step size to 1.0000000000000002e-07\n",
      "No better direction, try reducing step size to 1.0000000000000002e-08\n",
      "No better direction, try reducing step size to 1.0000000000000003e-09\n",
      "No better direction, try reducing step size to 1.0000000000000003e-10\n",
      "No better direction, try reducing step size to 1.0000000000000003e-11\n",
      "No better direction, try reducing step size to 1.0000000000000002e-12\n",
      "No better direction, step size smaller than tolerance\n",
      "-----------End Hooke-Jeeves optimization-----------\n",
      "Search method completed at [1.0, 1.0, 1.0] with function value: 0.0\n"
     ]
    }
   ],
   "source": [
    "hooke_jeeves(fs[0], np.zeros(3), step_size=1, alpha=2)\n",
    "pass"
   ]
  },
  {
   "cell_type": "code",
   "execution_count": 9,
   "metadata": {},
   "outputs": [
    {
     "name": "stdout",
     "output_type": "stream",
     "text": [
      "Starting Hooke-Jeeves optimization from: [0.0, 0.0, 0.0, 0.0], function value: 16.0\n",
      "----------Start Hooke-Jeeves optimization----------\n",
      "Iteration 1: improved point: [-2.0, 2.0, -2.0, 2.0], function value: 0.0\n",
      "No better direction, try reducing step size to 0.1\n",
      "No better direction, try reducing step size to 0.01\n",
      "No better direction, try reducing step size to 0.001\n",
      "No better direction, try reducing step size to 0.0001\n",
      "No better direction, try reducing step size to 1e-05\n",
      "No better direction, try reducing step size to 1.0000000000000002e-06\n",
      "No better direction, try reducing step size to 1.0000000000000002e-07\n",
      "No better direction, try reducing step size to 1.0000000000000002e-08\n",
      "No better direction, try reducing step size to 1.0000000000000003e-09\n",
      "No better direction, try reducing step size to 1.0000000000000003e-10\n",
      "No better direction, try reducing step size to 1.0000000000000003e-11\n",
      "No better direction, try reducing step size to 1.0000000000000002e-12\n",
      "No better direction, step size smaller than tolerance\n",
      "-----------End Hooke-Jeeves optimization-----------\n",
      "Search method completed at [-2.0, 2.0, -2.0, 2.0] with function value: 0.0\n"
     ]
    }
   ],
   "source": [
    "hooke_jeeves(fs[1], np.zeros(4), step_size=1, alpha=2)\n",
    "pass"
   ]
  },
  {
   "cell_type": "markdown",
   "metadata": {},
   "source": [
    "Working as expected!"
   ]
  },
  {
   "cell_type": "markdown",
   "metadata": {},
   "source": [
    "##### Different tolerances"
   ]
  },
  {
   "cell_type": "code",
   "execution_count": 10,
   "metadata": {},
   "outputs": [
    {
     "name": "stdout",
     "output_type": "stream",
     "text": [
      "Starting Hooke-Jeeves optimization from: [0.0, 0.0, 0.0, 0.0, 0.0, 0.0, 0.0], function value: 5711.332604988733\n",
      "----------Start Hooke-Jeeves optimization----------\n",
      "Iteration 1: improved point: [4.8, 4.8, 4.8, 4.8, 4.8, 4.8, 4.8], function value: 135.9605765399642\n",
      "Iteration 2: improved point: [3.0, 3.0, 3.0, 3.0, 6.6, 6.6, 6.6], function value: 9.14753964447621\n",
      "Iteration 3: improved point: [2.0, 2.0, 4.0, 4.0, 5.6, 5.6, 7.6], function value: 1.5567740906202143\n",
      "Iteration 4: improved point: [1.4, 2.0, 3.4, 4.6, 5.0, 6.2, 7.6], function value: 0.27147710057219737\n",
      "Iteration 5: improved point: [1.0, 2.0, 3.0, 4.2, 5.4, 6.2, 7.6], function value: 0.020170949557786307\n",
      "Iteration 6: improved point: [1.0, 2.0, 3.2, 4.4, 5.4, 6.2, 7.6], function value: 0.004628549557789739\n",
      "No better direction, try reducing step size to 0.01\n",
      "Iteration 7: improved point: [1.0, 2.0, 3.2, 4.34, 5.4, 6.2, 7.6], function value: 0.00018854955778888408\n",
      "No better direction, try reducing step size to 0.001\n",
      "No better direction, try reducing step size to 0.0001\n",
      "No better direction, step size smaller than tolerance\n",
      "-----------End Hooke-Jeeves optimization-----------\n",
      "Search method completed at [1.0, 2.0, 3.2, 4.34, 5.4, 6.2, 7.6] with function value: 0.00018854955778888408\n"
     ]
    }
   ],
   "source": [
    "hooke_jeeves(fs[2], np.zeros(7), step_size=0.1, tol=1e-4, alpha=2)\n",
    "pass"
   ]
  },
  {
   "cell_type": "code",
   "execution_count": 11,
   "metadata": {},
   "outputs": [
    {
     "name": "stdout",
     "output_type": "stream",
     "text": [
      "Starting Hooke-Jeeves optimization from: [0.0, 0.0, 0.0, 0.0, 0.0, 0.0, 0.0], function value: 5711.332604988733\n",
      "----------Start Hooke-Jeeves optimization----------\n",
      "Iteration 1: improved point: [4.8, 4.8, 4.8, 4.8, 4.8, 4.8, 4.8], function value: 135.9605765399642\n",
      "Iteration 2: improved point: [3.0, 3.0, 3.0, 3.0, 6.6, 6.6, 6.6], function value: 9.14753964447621\n",
      "Iteration 3: improved point: [2.0, 2.0, 4.0, 4.0, 5.6, 5.6, 7.6], function value: 1.5567740906202143\n",
      "Iteration 4: improved point: [1.4, 2.6, 3.4, 4.6, 5.0, 6.2, 7.6], function value: 0.33387710057220116\n",
      "Iteration 5: improved point: [1.0, 2.2, 3.0, 4.2, 5.4, 5.8, 7.6], function value: 0.031075079004186663\n",
      "Iteration 6: improved point: [1.0, 2.0, 3.2, 4.4, 5.4, 6.0, 7.6], function value: 0.004825999880989767\n",
      "No better direction, try reducing step size to 0.01\n",
      "Iteration 7: improved point: [1.0, 2.06, 3.26, 4.34, 5.46, 6.06, 7.54], function value: 7.09333683489248e-05\n",
      "No better direction, try reducing step size to 0.001\n",
      "Iteration 8: improved point: [1.0, 2.068, 3.252, 4.332, 5.452, 6.068, 7.548], function value: 1.2673926684789707e-05\n",
      "Iteration 9: improved point: [1.0, 2.07, 3.25, 4.334, 5.45, 6.07, 7.55], function value: 1.0852765468814001e-05\n",
      "Iteration 10: improved point: [1.0, 2.072, 3.248, 4.332, 5.448, 6.072, 7.552], function value: 9.271752732788659e-06\n",
      "Iteration 11: improved point: [1.0, 2.074, 3.246, 4.334, 5.446, 6.074, 7.554], function value: 7.905582876813145e-06\n",
      "Iteration 12: improved point: [1.0, 2.076, 3.244, 4.332, 5.446, 6.076, 7.556], function value: 6.7308768287879715e-06\n",
      "Iteration 13: improved point: [1.0, 2.078, 3.242, 4.334, 5.446, 6.078, 7.558], function value: 5.726122780812608e-06\n",
      "Iteration 14: improved point: [1.0, 2.08, 3.24, 4.332, 5.446, 6.08, 7.56], function value: 4.87150633278757e-06\n",
      "Iteration 15: improved point: [1.0, 2.082, 3.238, 4.334, 5.446, 6.082, 7.562], function value: 4.148749084812322e-06\n",
      "Iteration 16: improved point: [1.0, 2.084, 3.236, 4.332, 5.446, 6.084, 7.564], function value: 3.5411086367873826e-06\n",
      "Iteration 17: improved point: [1.0, 2.086, 3.234, 4.334, 5.446, 6.086, 7.566], function value: 3.0333785888122206e-06\n",
      "Iteration 18: improved point: [1.0, 2.088, 3.232, 4.332, 5.446, 6.088, 7.566], function value: 2.6118990367873546e-06\n",
      "Iteration 19: improved point: [1.0, 2.09, 3.23, 4.334, 5.446, 6.09, 7.566], function value: 2.2644911648122536e-06\n",
      "Iteration 20: improved point: [1.0, 2.092, 3.228, 4.332, 5.446, 6.092, 7.566], function value: 1.9803261727874365e-06\n",
      "Iteration 21: improved point: [1.0, 2.094, 3.226, 4.334, 5.446, 6.094, 7.566], function value: 1.7497272608123742e-06\n",
      "Iteration 22: improved point: [1.0, 2.096, 3.224, 4.332, 5.446, 6.096, 7.566], function value: 1.5641696287875854e-06\n",
      "Iteration 23: improved point: [1.0, 2.098, 3.222, 4.334, 5.446, 6.098, 7.566], function value: 1.4162804768125407e-06\n",
      "Iteration 24: improved point: [1.0, 2.098, 3.222, 4.332, 5.446, 6.1, 7.566], function value: 1.29987100478776e-06\n",
      "Iteration 25: improved point: [1.0, 2.098, 3.222, 4.334, 5.446, 6.102, 7.566], function value: 1.2097764128127142e-06\n",
      "Iteration 26: improved point: [1.0, 2.098, 3.222, 4.332, 5.446, 6.104, 7.566], function value: 1.1416959007879246e-06\n",
      "Iteration 27: improved point: [1.0, 2.098, 3.222, 4.334, 5.446, 6.106, 7.566], function value: 1.0917126688128656e-06\n",
      "Iteration 28: improved point: [1.0, 2.098, 3.222, 4.332, 5.446, 6.108, 7.566], function value: 1.0562939167880595e-06\n",
      "Iteration 29: improved point: [1.0, 2.098, 3.222, 4.334, 5.446, 6.11, 7.566], function value: 1.0322908448129815e-06\n",
      "Iteration 30: improved point: [1.0, 2.098, 3.222, 4.332, 5.446, 6.112, 7.566], function value: 1.016938652788155e-06\n",
      "Iteration 31: improved point: [1.0, 2.098, 3.222, 4.334, 5.446, 6.114, 7.566], function value: 1.0078565408130564e-06\n",
      "Iteration 32: improved point: [1.0, 2.098, 3.222, 4.332, 5.446, 6.116, 7.566], function value: 1.00304770878821e-06\n",
      "Iteration 33: improved point: [1.0, 2.098, 3.222, 4.334, 5.446, 6.118, 7.566], function value: 1.000899356813093e-06\n",
      "Iteration 34: improved point: [1.0, 2.098, 3.222, 4.332, 5.446, 6.12, 7.566], function value: 1.000182684788231e-06\n",
      "Iteration 35: improved point: [1.0, 2.098, 3.222, 4.334, 5.446, 6.122, 7.566], function value: 1.0000528928131025e-06\n",
      "No better direction, try reducing step size to 0.0001\n",
      "Iteration 36: improved point: [1.0, 2.098, 3.222, 4.333, 5.446, 6.122, 7.566], function value: 5.289279999997604e-11\n",
      "No better direction, try reducing step size to 1e-05\n",
      "No better direction, try reducing step size to 1.0000000000000002e-06\n",
      "No better direction, try reducing step size to 1.0000000000000002e-07\n",
      "No better direction, try reducing step size to 1.0000000000000002e-08\n",
      "No better direction, try reducing step size to 1.0000000000000003e-09\n",
      "No better direction, try reducing step size to 1.0000000000000003e-10\n",
      "No better direction, step size smaller than tolerance\n",
      "-----------End Hooke-Jeeves optimization-----------\n",
      "Search method completed at [1.0, 2.098, 3.222, 4.333, 5.446, 6.122, 7.566] with function value: 5.289279999997604e-11\n"
     ]
    }
   ],
   "source": [
    "hooke_jeeves(fs[2], np.zeros(7), step_size=0.1, tol=1e-10, alpha=2)\n",
    "pass"
   ]
  },
  {
   "cell_type": "markdown",
   "metadata": {},
   "source": [
    "Greater accuracy!"
   ]
  },
  {
   "cell_type": "markdown",
   "metadata": {},
   "source": [
    "### 4"
   ]
  },
  {
   "cell_type": "code",
   "execution_count": 12,
   "metadata": {},
   "outputs": [
    {
     "name": "stdout",
     "output_type": "stream",
     "text": [
      "Starting Hooke-Jeeves optimization from: [0.0, 0.0], function value: 9.243197504692072\n",
      "----------Start Hooke-Jeeves optimization----------\n",
      "No better direction, try reducing step size to 0.1\n",
      "Iteration 1: improved point: [0.2, 0.0], function value: 9.048131242689088\n",
      "No better direction, try reducing step size to 0.01\n",
      "Iteration 2: improved point: [0.16, -0.04], function value: 9.01709440466418\n",
      "Iteration 3: improved point: [0.16, -0.08], function value: 9.01389440466418\n",
      "No better direction, try reducing step size to 0.001\n",
      "Iteration 4: improved point: [0.162, -0.08], function value: 9.013851431554384\n",
      "No better direction, try reducing step size to 0.0001\n",
      "No better direction, try reducing step size to 1e-05\n",
      "No better direction, try reducing step size to 1.0000000000000002e-06\n",
      "No better direction, step size smaller than tolerance\n",
      "-----------End Hooke-Jeeves optimization-----------\n",
      "Search method completed at [0.162, -0.08] with function value: 9.013851431554384\n"
     ]
    }
   ],
   "source": [
    "f4 = lambda x: (x[0] + x[1]) ** 2 + np.sin((x[0] + 2) ** 2) + x[1] ** 2 + 10\n",
    "\n",
    "hooke_jeeves(f4, np.zeros(2), step_size=1, tol=1e-6, alpha=2)\n",
    "pass"
   ]
  },
  {
   "cell_type": "markdown",
   "metadata": {},
   "source": [
    "![alt text](Figure/image3.png)\n",
    "\n",
    "Seems to be correct!"
   ]
  }
 ],
 "metadata": {
  "kernelspec": {
   "display_name": ".venv",
   "language": "python",
   "name": "python3"
  },
  "language_info": {
   "codemirror_mode": {
    "name": "ipython",
    "version": 3
   },
   "file_extension": ".py",
   "mimetype": "text/x-python",
   "name": "python",
   "nbconvert_exporter": "python",
   "pygments_lexer": "ipython3",
   "version": "3.11.10"
  }
 },
 "nbformat": 4,
 "nbformat_minor": 2
}
