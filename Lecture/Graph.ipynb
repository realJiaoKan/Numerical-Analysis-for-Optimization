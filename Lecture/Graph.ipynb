{
 "cells": [
  {
   "cell_type": "code",
   "execution_count": 334,
   "metadata": {},
   "outputs": [],
   "source": [
    "import numpy as np\n",
    "import heapq\n",
    "\n",
    "graph = np.array([[0] * 100] * 100)\n",
    "D = np.array([[0] * 100] * 100)"
   ]
  },
  {
   "cell_type": "code",
   "execution_count": 335,
   "metadata": {},
   "outputs": [
    {
     "data": {
      "text/plain": [
       "array([[0, 1, 1, 1, 0, 0, 0, 0],\n",
       "       [1, 0, 0, 1, 0, 0, 0, 0],\n",
       "       [1, 0, 0, 1, 1, 0, 0, 0],\n",
       "       [1, 1, 1, 0, 0, 0, 0, 0],\n",
       "       [0, 0, 1, 0, 0, 1, 1, 0],\n",
       "       [0, 0, 0, 0, 1, 0, 1, 1],\n",
       "       [0, 0, 0, 0, 1, 1, 0, 0],\n",
       "       [0, 0, 0, 0, 0, 1, 0, 0]])"
      ]
     },
     "execution_count": 335,
     "metadata": {},
     "output_type": "execute_result"
    }
   ],
   "source": [
    "# n, m = [int(_) for _ in input().split()]\n",
    "n = 8\n",
    "m = 10\n",
    "edges = np.array(\n",
    "    [\n",
    "        [1, 2],\n",
    "        [1, 3],\n",
    "        [1, 4],\n",
    "        [2, 4],\n",
    "        [3, 4],\n",
    "        [3, 5],\n",
    "        [5, 7],\n",
    "        [5, 6],\n",
    "        [6, 7],\n",
    "        [6, 8],\n",
    "    ]\n",
    ")\n",
    "\n",
    "for i in range(m):\n",
    "    # u, v = [int(_) for _ in input().split()]\n",
    "    u = edges[i][0]\n",
    "    v = edges[i][1]\n",
    "    graph[u][v] = 1\n",
    "    graph[v][u] = 1\n",
    "    D[u][u] += 1\n",
    "    D[v][v] += 1\n",
    "\n",
    "graph = graph[1 : n + 1, 1 : n + 1]\n",
    "D = D[1 : n + 1, 1 : n + 1]\n",
    "\n",
    "graph"
   ]
  },
  {
   "cell_type": "code",
   "execution_count": 336,
   "metadata": {},
   "outputs": [
    {
     "data": {
      "text/plain": [
       "array([[3, 0, 0, 0, 0, 0, 0, 0],\n",
       "       [0, 2, 0, 0, 0, 0, 0, 0],\n",
       "       [0, 0, 3, 0, 0, 0, 0, 0],\n",
       "       [0, 0, 0, 3, 0, 0, 0, 0],\n",
       "       [0, 0, 0, 0, 3, 0, 0, 0],\n",
       "       [0, 0, 0, 0, 0, 3, 0, 0],\n",
       "       [0, 0, 0, 0, 0, 0, 2, 0],\n",
       "       [0, 0, 0, 0, 0, 0, 0, 1]])"
      ]
     },
     "execution_count": 336,
     "metadata": {},
     "output_type": "execute_result"
    }
   ],
   "source": [
    "D"
   ]
  },
  {
   "cell_type": "code",
   "execution_count": 337,
   "metadata": {},
   "outputs": [
    {
     "data": {
      "text/plain": [
       "array([[ 3, -1, -1, -1,  0,  0,  0,  0],\n",
       "       [-1,  2,  0, -1,  0,  0,  0,  0],\n",
       "       [-1,  0,  3, -1, -1,  0,  0,  0],\n",
       "       [-1, -1, -1,  3,  0,  0,  0,  0],\n",
       "       [ 0,  0, -1,  0,  3, -1, -1,  0],\n",
       "       [ 0,  0,  0,  0, -1,  3, -1, -1],\n",
       "       [ 0,  0,  0,  0, -1, -1,  2,  0],\n",
       "       [ 0,  0,  0,  0,  0, -1,  0,  1]])"
      ]
     },
     "execution_count": 337,
     "metadata": {},
     "output_type": "execute_result"
    }
   ],
   "source": [
    "L = D - graph\n",
    "\n",
    "L"
   ]
  },
  {
   "cell_type": "code",
   "execution_count": 338,
   "metadata": {},
   "outputs": [
    {
     "data": {
      "text/plain": [
       "array([-6.89515312e-16,  2.78584797e-01,  1.11161664e+00,  2.31535527e+00,\n",
       "        3.46643748e+00,  4.00000000e+00,  4.00000000e+00,  4.82800581e+00])"
      ]
     },
     "execution_count": 338,
     "metadata": {},
     "output_type": "execute_result"
    }
   ],
   "source": [
    "eigenvalues, eigenvectors = np.linalg.eig(L)\n",
    "\n",
    "sorted_indices = np.argsort(eigenvalues)\n",
    "eigenvalues = eigenvalues[sorted_indices]\n",
    "eigenvectors = eigenvectors[:, sorted_indices]\n",
    "\n",
    "eigenvalues"
   ]
  },
  {
   "cell_type": "code",
   "execution_count": 339,
   "metadata": {},
   "outputs": [
    {
     "data": {
      "text/plain": [
       "array([[-0.35355339, -0.36397459,  0.08152079, -0.10132926,  0.27843784,\n",
       "         0.16545714, -0.75      ,  0.29254334],\n",
       "       [-0.35355339, -0.42287832,  0.18352616,  0.64263559, -0.37974731,\n",
       "         0.21151095,  0.08333333, -0.2068902 ],\n",
       "       [-0.35355339, -0.20367307, -0.11110444, -0.61068087, -0.02856438,\n",
       "         0.21151095,  0.08333333, -0.62042408],\n",
       "       [-0.35355339, -0.36397459,  0.08152079, -0.10132926,  0.27843784,\n",
       "        -0.58847904,  0.58333333,  0.29254334],\n",
       "       [-0.35355339,  0.1736702 , -0.37284937, -0.21544092, -0.54355219,\n",
       "         0.21151095,  0.08333333,  0.54905213],\n",
       "       [-0.35355339,  0.36397459, -0.08152079,  0.10132926, -0.27843784,\n",
       "        -0.63453285, -0.25      , -0.29254334],\n",
       "       [-0.35355339,  0.3123272 , -0.5114573 ,  0.36185112,  0.56053534,\n",
       "         0.21151095,  0.08333333, -0.09070306],\n",
       "       [-0.35355339,  0.50452858,  0.73036416, -0.07703566,  0.1128907 ,\n",
       "         0.21151095,  0.08333333,  0.07642187]])"
      ]
     },
     "execution_count": 339,
     "metadata": {},
     "output_type": "execute_result"
    }
   ],
   "source": [
    "eigenvectors"
   ]
  },
  {
   "cell_type": "code",
   "execution_count": 340,
   "metadata": {},
   "outputs": [
    {
     "data": {
      "text/plain": [
       "array([-0.36397459, -0.42287832, -0.20367307, -0.36397459,  0.1736702 ,\n",
       "        0.36397459,  0.3123272 ,  0.50452858])"
      ]
     },
     "execution_count": 340,
     "metadata": {},
     "output_type": "execute_result"
    }
   ],
   "source": [
    "eigenvectors[:, 1]"
   ]
  },
  {
   "cell_type": "code",
   "execution_count": 341,
   "metadata": {},
   "outputs": [
    {
     "data": {
      "text/plain": [
       "[0, 0, 0, 0, 1, 1, 1, 1]"
      ]
     },
     "execution_count": 341,
     "metadata": {},
     "output_type": "execute_result"
    }
   ],
   "source": [
    "[0 if _ < 0 else 1 for _ in eigenvectors[:, 1]]"
   ]
  },
  {
   "cell_type": "code",
   "execution_count": 342,
   "metadata": {},
   "outputs": [
    {
     "data": {
      "text/plain": [
       "array([[ 0,  1,  0,  0,  0,  0,  6,  0,  0],\n",
       "       [ 0,  0,  3,  0,  0,  0,  0,  5,  0],\n",
       "       [ 0,  0,  0, 10, 14,  0,  0,  0,  0],\n",
       "       [ 0,  0,  0,  0,  0,  0,  0,  0,  0],\n",
       "       [ 0,  0,  0, 17,  0,  0,  0,  0,  0],\n",
       "       [ 0,  0,  0,  0,  2,  0,  0,  0,  0],\n",
       "       [ 0,  0,  0,  0,  0,  4,  0,  0,  0],\n",
       "       [ 0,  0,  0,  0,  0,  7, 11,  0,  0],\n",
       "       [ 2,  0,  0,  0,  0,  0,  9,  0,  0]])"
      ]
     },
     "execution_count": 342,
     "metadata": {},
     "output_type": "execute_result"
    }
   ],
   "source": [
    "graph = np.array([[0] * 100] * 100)\n",
    "\n",
    "n = 9\n",
    "m = 13\n",
    "edges = np.array(\n",
    "    [\n",
    "        [1, 2, 1],\n",
    "        [2, 3, 3],\n",
    "        [3, 4, 10],\n",
    "        [1, 7, 6],\n",
    "        [2, 8, 5],\n",
    "        [8, 7, 11],\n",
    "        [8, 6, 7],\n",
    "        [3, 5, 14],\n",
    "        [7, 6, 4],\n",
    "        [6, 5, 2],\n",
    "        [5, 4, 17],\n",
    "        [9, 1, 2],\n",
    "        [9, 7, 9],\n",
    "    ]\n",
    ")\n",
    "\n",
    "for i in range(m):\n",
    "    u = edges[i][0]\n",
    "    v = edges[i][1]\n",
    "    w = edges[i][2]\n",
    "    graph[u][v] = w\n",
    "\n",
    "graph[1 : n + 1, 1 : n + 1]"
   ]
  },
  {
   "cell_type": "code",
   "execution_count": 343,
   "metadata": {},
   "outputs": [
    {
     "name": "stdout",
     "output_type": "stream",
     "text": [
      "16\n"
     ]
    }
   ],
   "source": [
    "start = 9\n",
    "end = 4\n",
    "\n",
    "q = []\n",
    "heapq.heappush(q, (0, start))\n",
    "vis = [False] * (n + 1)\n",
    "dis = [np.inf] * (n + 1)\n",
    "dis[start] = 0\n",
    "\n",
    "while q:\n",
    "    _, now = heapq.heappop(q)\n",
    "    if vis[now]:\n",
    "        continue\n",
    "    vis[now] = True\n",
    "    for v in range(1, n + 1):\n",
    "        if graph[now][v] > 0:\n",
    "            if dis[now] + graph[now][v] < dis[v]:\n",
    "                dis[v] = dis[now] + graph[now][v]\n",
    "                heapq.heappush(q, (dis[v], v))\n",
    "\n",
    "print(dis[end])"
   ]
  }
 ],
 "metadata": {
  "kernelspec": {
   "display_name": ".venv",
   "language": "python",
   "name": "python3"
  },
  "language_info": {
   "codemirror_mode": {
    "name": "ipython",
    "version": 3
   },
   "file_extension": ".py",
   "mimetype": "text/x-python",
   "name": "python",
   "nbconvert_exporter": "python",
   "pygments_lexer": "ipython3",
   "version": "3.11.10"
  }
 },
 "nbformat": 4,
 "nbformat_minor": 2
}
